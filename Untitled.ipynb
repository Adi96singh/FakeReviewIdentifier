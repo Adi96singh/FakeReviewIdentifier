{
 "cells": [
  {
   "cell_type": "code",
   "execution_count": null,
   "id": "854152b7-4698-4ad5-bd0d-b542b5161122",
   "metadata": {},
   "outputs": [
    {
     "name": "stdout",
     "output_type": "stream",
     "text": [
      "Requirement already satisfied: pandas in c:\\users\\singh\\appdata\\local\\programs\\python\\python313\\lib\\site-packages (2.2.3)\n",
      "Requirement already satisfied: scikit-learn in c:\\users\\singh\\appdata\\local\\programs\\python\\python313\\lib\\site-packages (1.5.2)\n",
      "Requirement already satisfied: flask in c:\\users\\singh\\appdata\\local\\programs\\python\\python313\\lib\\site-packages (3.0.3)\n",
      "Requirement already satisfied: numpy>=1.26.0 in c:\\users\\singh\\appdata\\local\\programs\\python\\python313\\lib\\site-packages (from pandas) (2.1.2)\n",
      "Requirement already satisfied: python-dateutil>=2.8.2 in c:\\users\\singh\\appdata\\local\\programs\\python\\python313\\lib\\site-packages (from pandas) (2.9.0.post0)\n",
      "Requirement already satisfied: pytz>=2020.1 in c:\\users\\singh\\appdata\\local\\programs\\python\\python313\\lib\\site-packages (from pandas) (2024.2)\n",
      "Requirement already satisfied: tzdata>=2022.7 in c:\\users\\singh\\appdata\\local\\programs\\python\\python313\\lib\\site-packages (from pandas) (2024.2)\n",
      "Requirement already satisfied: scipy>=1.6.0 in c:\\users\\singh\\appdata\\local\\programs\\python\\python313\\lib\\site-packages (from scikit-learn) (1.14.1)\n",
      "Requirement already satisfied: joblib>=1.2.0 in c:\\users\\singh\\appdata\\local\\programs\\python\\python313\\lib\\site-packages (from scikit-learn) (1.4.2)\n",
      "Requirement already satisfied: threadpoolctl>=3.1.0 in c:\\users\\singh\\appdata\\local\\programs\\python\\python313\\lib\\site-packages (from scikit-learn) (3.5.0)\n",
      "Requirement already satisfied: Werkzeug>=3.0.0 in c:\\users\\singh\\appdata\\local\\programs\\python\\python313\\lib\\site-packages (from flask) (3.0.4)\n",
      "Requirement already satisfied: Jinja2>=3.1.2 in c:\\users\\singh\\appdata\\local\\programs\\python\\python313\\lib\\site-packages (from flask) (3.1.4)\n",
      "Requirement already satisfied: itsdangerous>=2.1.2 in c:\\users\\singh\\appdata\\local\\programs\\python\\python313\\lib\\site-packages (from flask) (2.2.0)\n",
      "Requirement already satisfied: click>=8.1.3 in c:\\users\\singh\\appdata\\local\\programs\\python\\python313\\lib\\site-packages (from flask) (8.1.7)\n",
      "Requirement already satisfied: blinker>=1.6.2 in c:\\users\\singh\\appdata\\local\\programs\\python\\python313\\lib\\site-packages (from flask) (1.8.2)\n",
      "Requirement already satisfied: colorama in c:\\users\\singh\\appdata\\local\\programs\\python\\python313\\lib\\site-packages (from click>=8.1.3->flask) (0.4.6)\n",
      "Requirement already satisfied: MarkupSafe>=2.0 in c:\\users\\singh\\appdata\\local\\programs\\python\\python313\\lib\\site-packages (from Jinja2>=3.1.2->flask) (3.0.2)\n",
      "Requirement already satisfied: six>=1.5 in c:\\users\\singh\\appdata\\local\\programs\\python\\python313\\lib\\site-packages (from python-dateutil>=2.8.2->pandas) (1.16.0)\n",
      "Note: you may need to restart the kernel to use updated packages.\n"
     ]
    },
    {
     "name": "stderr",
     "output_type": "stream",
     "text": [
      "\n",
      "[notice] A new release of pip is available: 24.2 -> 24.3.1\n",
      "[notice] To update, run: python.exe -m pip install --upgrade pip\n"
     ]
    }
   ],
   "source": [
    "pip install pandas scikit-learn flask"
   ]
  },
  {
   "cell_type": "code",
   "execution_count": 2,
   "id": "28159959-3a6d-4c2a-a315-4561c4b6074a",
   "metadata": {},
   "outputs": [],
   "source": [
    "import pandas as pd\n",
    "from sklearn.model_selection import train_test_split\n",
    "from sklearn.feature_extraction.text import TfidfVectorizer\n",
    "from sklearn.preprocessing import LabelEncoder\n",
    "from sklearn.ensemble import RandomForestClassifier\n",
    "import joblib\n",
    "\n",
    "# Load the dataset\n",
    "df = pd.read_csv('fake_reviews_dataset.csv')\n",
    "\n",
    "# Label encoding (CG -> 0, OR -> 1)\n",
    "label_encoder = LabelEncoder()\n",
    "df['label'] = label_encoder.fit_transform(df['label'])\n",
    "\n",
    "# TF-IDF Vectorization of review text\n",
    "tfidf = TfidfVectorizer(max_features=1000, stop_words='english')\n",
    "X = tfidf.fit_transform(df['text'])\n",
    "\n",
    "# Combine text features with rating\n",
    "X_combined = pd.DataFrame(X.toarray())\n",
    "X_combined['rating'] = df['rating']\n",
    "\n",
    "# Target variable\n",
    "y = df['label']\n",
    "\n",
    "# Split the dataset into training and testing sets\n",
    "X_train, X_test, y_train, y_test = train_test_split(X_combined, y, test_size=0.2, random_state=42)\n"
   ]
  },
  {
   "cell_type": "code",
   "execution_count": 3,
   "id": "68dd6061-4a8f-42ae-af2f-4a9ca9731231",
   "metadata": {},
   "outputs": [
    {
     "data": {
      "text/plain": [
       "['tfidf_vectorizer.pkl']"
      ]
     },
     "execution_count": 3,
     "metadata": {},
     "output_type": "execute_result"
    }
   ],
   "source": [
    "from sklearn.ensemble import RandomForestClassifier\n",
    "import joblib\n",
    "\n",
    "# Convert column names of X_combined to strings to avoid the error\n",
    "X_combined.columns = X_combined.columns.astype(str)\n",
    "\n",
    "# Split the dataset into training and testing sets\n",
    "X_train, X_test, y_train, y_test = train_test_split(X_combined, y, test_size=0.2, random_state=42)\n",
    "\n",
    "# Train a RandomForest model\n",
    "model = RandomForestClassifier(n_estimators=100, random_state=42)\n",
    "model.fit(X_train, y_train)\n",
    "\n",
    "# Save the model and the TF-IDF vectorizer for later use\n",
    "joblib.dump(model, 'fake_review_model.pkl')\n",
    "joblib.dump(tfidf, 'tfidf_vectorizer.pkl')\n",
    "\n"
   ]
  },
  {
   "cell_type": "code",
   "execution_count": 4,
   "id": "90bf7143-6f2c-42f8-abfd-c31efc579934",
   "metadata": {},
   "outputs": [],
   "source": [
    "import joblib\n",
    "\n",
    "# Load the saved RandomForest model and TF-IDF vectorizer\n",
    "model = joblib.load('fake_review_model.pkl')\n",
    "tfidf_vectorizer = joblib.load('tfidf_vectorizer.pkl')\n"
   ]
  },
  {
   "cell_type": "code",
   "execution_count": 5,
   "id": "13a4f86c-a9ed-42c1-962d-aa90ef382a9c",
   "metadata": {},
   "outputs": [
    {
     "name": "stdout",
     "output_type": "stream",
     "text": [
      "Review: very bad.\n",
      "Prediction: fake\n"
     ]
    }
   ],
   "source": [
    "# Example review text\n",
    "test_review = \"very bad.\"\n",
    "\n",
    "# Step 1: Vectorize the input review (1000 features)\n",
    "review_vectorized = tfidf_vectorizer.transform([test_review])\n",
    "\n",
    "# Step 2: Convert to DataFrame to match the training format\n",
    "import pandas as pd\n",
    "review_vectorized_df = pd.DataFrame(review_vectorized.toarray())\n",
    "\n",
    "# Step 3: Add a dummy 'rating' column (set to a reasonable value, e.g., 5)\n",
    "review_vectorized_df['rating'] = 5  # Add the rating column\n",
    "\n",
    "# Step 4: Convert all feature names to strings to avoid the error\n",
    "review_vectorized_df.columns = review_vectorized_df.columns.astype(str)\n",
    "\n",
    "# Step 5: Get model prediction (0 = Genuine, 1 = Fake)\n",
    "prediction = model.predict(review_vectorized_df)[0]\n",
    "\n",
    "# Step 6: Output the result\n",
    "result = \"fake\" if prediction == 1 else \"genuine\"\n",
    "print(f\"Review: {test_review}\\nPrediction: {result}\")\n"
   ]
  },
  {
   "cell_type": "code",
   "execution_count": 6,
   "id": "d85689c2-0d7a-4f14-aec0-470cbe1be4d8",
   "metadata": {},
   "outputs": [
    {
     "name": "stdout",
     "output_type": "stream",
     "text": [
      "Review: This product is amazing!\n",
      "Prediction: Genuine\n",
      "\n",
      "Review: Terrible product, not worth the money!\n",
      "Prediction: Fake\n",
      "\n",
      "Review: Best product I've ever used. Highly recommend.\n",
      "Prediction: Genuine\n",
      "\n",
      "Review: This review seems very fake, don't trust it.\n",
      "Prediction: Fake\n",
      "\n",
      "Review: The delivery was delayed but the product is worth it.\n",
      "Prediction: Fake\n",
      "\n"
     ]
    }
   ],
   "source": [
    "# List of reviews for testing\n",
    "test_reviews = [\n",
    "    \"This product is amazing!\",\n",
    "    \"Terrible product, not worth the money!\",\n",
    "    \"Best product I've ever used. Highly recommend.\",\n",
    "    \"This review seems very fake, don't trust it.\",\n",
    "    \"The delivery was delayed but the product is worth it.\"\n",
    "]\n",
    "\n",
    "# Step 1: Vectorize the reviews (1000 features)\n",
    "reviews_vectorized = tfidf_vectorizer.transform(test_reviews)\n",
    "\n",
    "# Step 2: Convert to DataFrame to match the training format\n",
    "reviews_vectorized_df = pd.DataFrame(reviews_vectorized.toarray())\n",
    "\n",
    "# Step 3: Add a dummy 'rating' column (set to a reasonable value, e.g., 5)\n",
    "reviews_vectorized_df['rating'] = 5  # Add the rating column\n",
    "\n",
    "# Step 4: Convert all feature names to strings to avoid the error\n",
    "reviews_vectorized_df.columns = reviews_vectorized_df.columns.astype(str)\n",
    "\n",
    "# Step 5: Get predictions for each review\n",
    "predictions = model.predict(reviews_vectorized_df)\n",
    "\n",
    "# Step 6: Display results for each review\n",
    "for review, pred in zip(test_reviews, predictions):\n",
    "    result = 'Fake' if pred == 1 else 'Genuine'\n",
    "    print(f\"Review: {review}\\nPrediction: {result}\\n\")\n"
   ]
  },
  {
   "cell_type": "code",
   "execution_count": null,
   "id": "0f3a6eec-9bbc-4833-b23a-efd22b49a9e9",
   "metadata": {},
   "outputs": [],
   "source": []
  }
 ],
 "metadata": {
  "kernelspec": {
   "display_name": "Python 3",
   "language": "python",
   "name": "python3"
  },
  "language_info": {
   "codemirror_mode": {
    "name": "ipython",
    "version": 3
   },
   "file_extension": ".py",
   "mimetype": "text/x-python",
   "name": "python",
   "nbconvert_exporter": "python",
   "pygments_lexer": "ipython3",
   "version": "3.13.0"
  }
 },
 "nbformat": 4,
 "nbformat_minor": 5
}
